{
 "cells": [
  {
   "cell_type": "markdown",
   "id": "b0a30a8e",
   "metadata": {},
   "source": [
    "# 1. 라이브러리 로드"
   ]
  },
  {
   "cell_type": "code",
   "execution_count": 1,
   "id": "ca727a3b",
   "metadata": {},
   "outputs": [],
   "source": [
    "import argparse\n",
    "import cv2\n",
    "\n",
    "from yolo import YOLO"
   ]
  },
  {
   "cell_type": "markdown",
   "id": "94b7a04b",
   "metadata": {},
   "source": [
    "# 2. Hand Detection"
   ]
  },
  {
   "cell_type": "markdown",
   "id": "c15df018",
   "metadata": {},
   "source": [
    "### 2-1. Hand Detection Yolo Model 로드"
   ]
  },
  {
   "cell_type": "code",
   "execution_count": 2,
   "id": "52e1f0bf",
   "metadata": {},
   "outputs": [],
   "source": [
    "yolo = YOLO(\"models/cross-hands-tiny-prn.cfg\", \"models/cross-hands-tiny-prn.weights\", [\"hand\"])\n",
    "\n",
    "yolo.size = 416  # int(args.size)\n",
    "yolo.confidence = 0.2  # float(args.confidence)\n",
    "\n",
    "conf_sum = 0\n",
    "detection_count = 0"
   ]
  },
  {
   "cell_type": "markdown",
   "id": "1a094379",
   "metadata": {},
   "source": [
    "### 2-2. 이미지 파일 로드"
   ]
  },
  {
   "cell_type": "code",
   "execution_count": 3,
   "id": "a55b9813",
   "metadata": {},
   "outputs": [],
   "source": [
    "img_file_name = \"drink_1_freehand\"\n",
    "img_file_path = \"datasets/images/\" + img_file_name + \".jpg\"\n",
    "\n",
    "mat = cv2.imread(img_file_path)\n",
    "width, height, inference_time, results = yolo.inference(mat)"
   ]
  },
  {
   "cell_type": "markdown",
   "id": "afc1e955",
   "metadata": {},
   "source": [
    "### 2-3. Hand Detection 수행 및 영역 정보 저장"
   ]
  },
  {
   "cell_type": "code",
   "execution_count": 4,
   "id": "079f51eb",
   "metadata": {},
   "outputs": [
    {
     "name": "stdout",
     "output_type": "stream",
     "text": [
      "hand with 0.96 confidence\n",
      "손 검출 시작 좌표(왼쪽위) : 277 552\n",
      "손 검출 끝 좌표(오른쪽아래) : 569 703\n",
      "손 검출 영역 크기 : 400007\n"
     ]
    }
   ],
   "source": [
    "hand_pos = [] # x1, y1, x2, y2\n",
    "\n",
    "detection_count = 0\n",
    "\n",
    "for detection in results:\n",
    "    id, name, confidence, x, y, w, h = detection\n",
    "    cx = x + (w / 2)\n",
    "    cy = y + (h / 2)\n",
    "\n",
    "    conf_sum += confidence\n",
    "    detection_count += 1\n",
    "\n",
    "    # draw a bounding box rectangle and label on the image\n",
    "    color = (255, 0, 255)\n",
    "    cv2.rectangle(mat, (x, y), (x + w, y + h), color, 3)\n",
    "    text = \"%s (%s)\" % (name, round(confidence, 2))\n",
    "    cv2.putText(mat, text, (x, y - 5), cv2.FONT_HERSHEY_SIMPLEX,\n",
    "                1, color, 3)\n",
    "\n",
    "    print(\"%s with %s confidence\" % (name, round(confidence, 2)))\n",
    "    # cv2.imwrite(\"export.jpg\", mat)\n",
    "    \n",
    "    hand_pos.extend([x, y, x+w, x+h])\n",
    "\n",
    "# show the output image\n",
    "mini_mat = cv2.resize(mat, dsize=(608, 608))\n",
    "cv2.imshow('image', mini_mat)\n",
    "cv2.waitKey(0)\n",
    "\n",
    "if detection_count != 1:\n",
    "    print(\"화면에는 하나의 손이 나와야 합니다\")\n",
    "    print(\"현재 화면에\", detection_count, '개의 손이 감지되었습니다.')\n",
    "    exit()\n",
    "    \n",
    "print(\"손 검출 시작 좌표(왼쪽위) :\", hand_pos[0], hand_pos[1])\n",
    "print(\"손 검출 끝 좌표(오른쪽아래) :\", hand_pos[2], hand_pos[3])\n",
    "print(\"손 검출 영역 크기 :\", hand_pos[2]*hand_pos[3])"
   ]
  },
  {
   "cell_type": "markdown",
   "id": "a1875d6e",
   "metadata": {},
   "source": [
    "# 3. Product Detection"
   ]
  },
  {
   "cell_type": "markdown",
   "id": "d177dc80",
   "metadata": {},
   "source": [
    "### 3-1. Product Detection 수행 및 좌표 저장"
   ]
  },
  {
   "cell_type": "markdown",
   "id": "d4adef70",
   "metadata": {},
   "source": [
    "* --weight : you can change the number of class that the system will detecth throught the weight file (weights/...)\n",
    "* --img : you can change the size of img\n",
    "* --conf : you can chagne the confidence threshold level\n",
    "* --source : input file that you want to detect the product and hand"
   ]
  },
  {
   "cell_type": "code",
   "execution_count": 5,
   "id": "1ba55d86",
   "metadata": {
    "scrolled": false
   },
   "outputs": [
    {
     "name": "stdout",
     "output_type": "stream",
     "text": [
      "source : datasets/images/drink_1_freehand.jpg → drink_1_freehand\n",
      "save_dir : datasets\\results\\drink_1_freehand\n"
     ]
    },
    {
     "name": "stderr",
     "output_type": "stream",
     "text": [
      "\u001b[34m\u001b[1mdetect: \u001b[0mweights=['weights/best_10class_150.pt'], source=datasets/images/drink_1_freehand.jpg, data=yolov5\\data\\coco128.yaml, imgsz=[416, 416], conf_thres=0.3, iou_thres=0.45, max_det=1000, device=, view_img=False, save_txt=True, save_conf=False, save_crop=False, nosave=False, classes=None, agnostic_nms=False, augment=False, visualize=False, update=False, project=yolov5\\runs\\detect, name=exp, exist_ok=False, line_thickness=4, hide_labels=False, hide_conf=False, half=False, dnn=False\n",
      "fatal: cannot change to 'G:\\�궡': No such file or directory\n",
      "YOLOv5  2022-6-12 Python-3.10.4 torch-1.11.0 CUDA:0 (GeForce GTX 1060 6GB, 6144MiB)\n",
      "\n",
      "Fusing layers... \n",
      "custom_YOLOv5s summary: 232 layers, 7270791 parameters, 0 gradients\n",
      "image 1/1 G:\\내 드라이브\\01. 숙명여대 석사\\2학기 (석사 2022-1)\\확률이론기반정보처리특론\\과제 및 발표자료\\code\\datasets\\images\\drink_1_freehand.jpg: 416x384 3 Protein_Yogurts, Done. (0.012s)\n",
      "Speed: 0.0ms pre-process, 12.0ms inference, 5.0ms NMS per image at shape (1, 3, 416, 416)\n",
      "Results saved to \u001b[1mdatasets\\results\\drink_1_freehand\u001b[0m\n",
      "0 labels saved to datasets\\results\\drink_1_freehand\\labels\n"
     ]
    }
   ],
   "source": [
    "!python yolov5/detect.py --weights weights/best_10class_150.pt --img 416 --conf 0.3 --source datasets/images/drink_1_freehand.jpg --line-thickness 4 --save-txt"
   ]
  },
  {
   "cell_type": "markdown",
   "id": "82ae54c3",
   "metadata": {},
   "source": [
    "# 4. 좌표 계산 및 상품 선택"
   ]
  },
  {
   "cell_type": "markdown",
   "id": "148ef85b",
   "metadata": {},
   "source": [
    "### 4-1. 상품 검출 좌표정보 불러오기"
   ]
  },
  {
   "cell_type": "code",
   "execution_count": 6,
   "id": "9b4f2308",
   "metadata": {},
   "outputs": [
    {
     "data": {
      "text/html": [
       "<div>\n",
       "<style scoped>\n",
       "    .dataframe tbody tr th:only-of-type {\n",
       "        vertical-align: middle;\n",
       "    }\n",
       "\n",
       "    .dataframe tbody tr th {\n",
       "        vertical-align: top;\n",
       "    }\n",
       "\n",
       "    .dataframe thead th {\n",
       "        text-align: right;\n",
       "    }\n",
       "</style>\n",
       "<table border=\"1\" class=\"dataframe\">\n",
       "  <thead>\n",
       "    <tr style=\"text-align: right;\">\n",
       "      <th></th>\n",
       "      <th>class</th>\n",
       "      <th>x1</th>\n",
       "      <th>y1</th>\n",
       "      <th>x2</th>\n",
       "      <th>y2</th>\n",
       "    </tr>\n",
       "  </thead>\n",
       "  <tbody>\n",
       "    <tr>\n",
       "      <th>0</th>\n",
       "      <td>6</td>\n",
       "      <td>336</td>\n",
       "      <td>89</td>\n",
       "      <td>640</td>\n",
       "      <td>1029</td>\n",
       "    </tr>\n",
       "    <tr>\n",
       "      <th>1</th>\n",
       "      <td>6</td>\n",
       "      <td>7</td>\n",
       "      <td>102</td>\n",
       "      <td>254</td>\n",
       "      <td>680</td>\n",
       "    </tr>\n",
       "    <tr>\n",
       "      <th>2</th>\n",
       "      <td>6</td>\n",
       "      <td>207</td>\n",
       "      <td>97</td>\n",
       "      <td>443</td>\n",
       "      <td>965</td>\n",
       "    </tr>\n",
       "  </tbody>\n",
       "</table>\n",
       "</div>"
      ],
      "text/plain": [
       "   class   x1   y1   x2    y2\n",
       "0      6  336   89  640  1029\n",
       "1      6    7  102  254   680\n",
       "2      6  207   97  443   965"
      ]
     },
     "execution_count": 6,
     "metadata": {},
     "output_type": "execute_result"
    }
   ],
   "source": [
    "import pandas as pd\n",
    "\n",
    "product_pos_path = \"datasets/results/\" +  img_file_name + \"/\" + img_file_name + \".txt\"\n",
    "\n",
    "product_pos = pd.read_csv(product_pos_path, sep = ' ', names=['class', 'x1', 'y1', 'x2', 'y2'])\n",
    "product_pos"
   ]
  },
  {
   "cell_type": "markdown",
   "id": "0e2f22c7",
   "metadata": {},
   "source": [
    "### 4-2. 손 검출 영역과 중첩된 영역 크기 계산하기"
   ]
  },
  {
   "cell_type": "code",
   "execution_count": 7,
   "id": "786efe63",
   "metadata": {},
   "outputs": [
    {
     "name": "stdout",
     "output_type": "stream",
     "text": [
      "[1644, 19215, 10808]\n"
     ]
    }
   ],
   "source": [
    "size_of_overlap = []\n",
    "\n",
    "for row in range(0, product_pos.shape[0]):\n",
    "    selected_box_pos = product_pos.loc[row]\n",
    "\n",
    "    # 가로 길이 계산\n",
    "    width = abs(abs(hand_pos[2] - selected_box_pos[3]) - abs(hand_pos[0] - selected_box_pos[1]))\n",
    "\n",
    "    # 세로 길이 계산\n",
    "    height = abs(abs(hand_pos[3] - selected_box_pos[4]) - abs(hand_pos[1] - selected_box_pos[2]))\n",
    "\n",
    "    # 총 영역 계산\n",
    "    area = width * height\n",
    "    size_of_overlap.append(area)\n",
    "    \n",
    "print(size_of_overlap) # 가장 작은 값이 가장 많은 영역이 겹친 것 "
   ]
  },
  {
   "cell_type": "markdown",
   "id": "9dcf82b7",
   "metadata": {},
   "source": [
    "### 4-3. 최대 중첩 아이템 선택"
   ]
  },
  {
   "cell_type": "code",
   "execution_count": 8,
   "id": "1c371d15",
   "metadata": {},
   "outputs": [
    {
     "name": "stdout",
     "output_type": "stream",
     "text": [
      "최대 중첩 아이템 : 6\n"
     ]
    }
   ],
   "source": [
    "min_idx = size_of_overlap.index(min(size_of_overlap))\n",
    "item_num = product_pos.loc[min_idx, 'class']\n",
    "print(\"최대 중첩 아이템(클래스) 번호 :\", item_num)"
   ]
  },
  {
   "cell_type": "markdown",
   "id": "c6ccf732",
   "metadata": {},
   "source": [
    "# 5. 상품 정보 불러오기 및 TTS 출력"
   ]
  },
  {
   "cell_type": "markdown",
   "id": "83fb634f",
   "metadata": {},
   "source": [
    "### 5-1. 최대 중첩항목의 상품 정보 파일 찾기"
   ]
  },
  {
   "cell_type": "code",
   "execution_count": 9,
   "id": "44a7a152",
   "metadata": {},
   "outputs": [
    {
     "name": "stdout",
     "output_type": "stream",
     "text": [
      "['[6] Protein_Yogurt.xml', '[8] mint_latte.xml', '[9] seoul_milk.xml', '[0] Cass_Light.xml', '[1] Cheetos.xml', '[2] Corn_Snack.xml', '[3] Corn_Snack_Roasted.xml', '[4] Hite_ExtraCold.xml', '[5] Kloud.xml', '[7] Shrimp_Crackers.xml']\n"
     ]
    }
   ],
   "source": [
    "import os\n",
    "\n",
    "food_info_path = \"datasets/food_info/\"\n",
    "\n",
    "food_info_list = os.listdir(food_info_path)\n",
    "print(food_info_list)"
   ]
  },
  {
   "cell_type": "code",
   "execution_count": 10,
   "id": "f76e6b0b",
   "metadata": {},
   "outputs": [
    {
     "name": "stdout",
     "output_type": "stream",
     "text": [
      "[6] Protein_Yogurt.xml\n"
     ]
    }
   ],
   "source": [
    "product_file = \"\"\n",
    "\n",
    "for file in food_info_list:\n",
    "    end_idx = file.find(']')\n",
    "    \n",
    "    product_num = file[1:end_idx]\n",
    "    \n",
    "    if int(product_num) == item_num:\n",
    "        product_file = file\n",
    "\n",
    "print(product_file)"
   ]
  },
  {
   "cell_type": "markdown",
   "id": "4fc3f80d",
   "metadata": {},
   "source": [
    "### 5-2. 상품 정보 불러오기"
   ]
  },
  {
   "cell_type": "code",
   "execution_count": 11,
   "id": "eca4b09b",
   "metadata": {},
   "outputs": [],
   "source": [
    "import xml.etree.ElementTree as ET\n",
    "tree = ET.parse(food_info_path + product_file)"
   ]
  },
  {
   "cell_type": "code",
   "execution_count": 12,
   "id": "823f60e4",
   "metadata": {},
   "outputs": [
    {
     "name": "stdout",
     "output_type": "stream",
     "text": [
      "프로틴고단백질요거트 210ML\n",
      "{'1회제공량': '', '총내용량(g)': '', '총내용량(mL)': '210', '에너지(㎉)': '185', '단백질(g)': '18.7', '지방(g)': '3.9', '탄수화물(g)': '19', '총당류(g)': '16', '총 식이섬유(g)': '', '칼슘(㎎)': '265', '철(㎍)': '', '마그네슘(㎎)': '', '카페인(㎎)': '', '칼륨(㎎)': '', '나트륨(㎎)': '130', '비타민': '', '콜레스테롤(㎎)': '60', '총 지방산(g)': ''}\n",
      " 185 18.7 3.9 19\n"
     ]
    }
   ],
   "source": [
    "from ast import literal_eval\n",
    "\n",
    "root = tree.getroot()\n",
    "div_cd = root[1]\n",
    "\n",
    "# 기본 정보\n",
    "img_prod_nm = div_cd.find('img_prod_nm').text  # 상품명.text\n",
    "vol = div_cd.find('volume').text  # 용량.text\n",
    "print(img_prod_nm, vol)\n",
    "\n",
    "# 상세 정보\n",
    "nut_info = div_cd.find('nutrition_info')\n",
    "\n",
    "nut_dict = eval(nut_info.text)\n",
    "\n",
    "print(nut_dict)\n",
    "\n",
    "serv_size = nut_dict['1회제공량']\n",
    "kcal = nut_dict['에너지(㎉)']\n",
    "protein = nut_dict['단백질(g)']\n",
    "fat = nut_dict['지방(g)']\n",
    "carbohydrate = nut_dict['탄수화물(g)']\n",
    "print(serv_size, kcal, protein, fat, carbohydrate)"
   ]
  },
  {
   "cell_type": "markdown",
   "id": "8fb3977f",
   "metadata": {},
   "source": [
    "### 5-3. TTS 출력(저장)"
   ]
  },
  {
   "cell_type": "code",
   "execution_count": 13,
   "id": "71e0bd89",
   "metadata": {},
   "outputs": [],
   "source": [
    "def replace_text(original):\n",
    "    changed = original.replace('ML', ' 밀리리터')\n",
    "    changed = changed.replace(\"g\", ' 그램')\n",
    "    \n",
    "    return changed"
   ]
  },
  {
   "cell_type": "code",
   "execution_count": 14,
   "id": "7b2bc779",
   "metadata": {},
   "outputs": [
    {
     "name": "stdout",
     "output_type": "stream",
     "text": [
      "프로틴고단백질요거트. 총 용량은 210 밀리리터. 1회 제공량은 210 밀리리터. 칼로리는 185. 단백질은 18.7. 지방은 3.9. 탄수화물은 19.\n"
     ]
    }
   ],
   "source": [
    "text_total = img_prod_nm + \".\" + \" 총 용량은 \" + vol + \".\" \n",
    "text_serve = \" 1회 제공량은 \" + str(vol if serv_size == \"\" else serv_size) + \".\"\n",
    "text_detail = \" 칼로리는 \" + kcal + \".\" + \" 단백질은 \" + protein + \".\" + \" 지방은 \" + fat + \".\" + \" 탄수화물은 \" + carbohydrate + \".\"\n",
    "\n",
    "text_final = text_total + text_serve + text_detail\n",
    "text_final = replace_text(text_final)\n",
    "\n",
    "print(text_final) "
   ]
  },
  {
   "cell_type": "code",
   "execution_count": 15,
   "id": "df7440c0",
   "metadata": {
    "scrolled": false
   },
   "outputs": [],
   "source": [
    "from gtts import gTTS\n",
    "\n",
    "tts = gTTS(text=text_final, lang='ko')\n",
    "tts.save(\"datasets/results/\" + img_file_name + \"/\" + img_file_name + \".mp3\")"
   ]
  }
 ],
 "metadata": {
  "kernelspec": {
   "display_name": "Python 3 (ipykernel)",
   "language": "python",
   "name": "python3"
  },
  "language_info": {
   "codemirror_mode": {
    "name": "ipython",
    "version": 3
   },
   "file_extension": ".py",
   "mimetype": "text/x-python",
   "name": "python",
   "nbconvert_exporter": "python",
   "pygments_lexer": "ipython3",
   "version": "3.10.4"
  }
 },
 "nbformat": 4,
 "nbformat_minor": 5
}
